{
 "cells": [
  {
   "cell_type": "markdown",
   "metadata": {},
   "source": [
    "## Download Symbols\n",
    "This file downloads all symbols it finds from Yahoo! Finance.  \n",
    "Requires `download-and-sanitize` to be run beforehand, so that `cnsfails-symbol.csv` exists.  \n",
    "Code based on [Kaggle](https://www.kaggle.com/jacksoncrow/download-nasdaq-historical-data) by Oleh Onyshchak"
   ]
  },
  {
   "cell_type": "code",
   "execution_count": 1,
   "metadata": {},
   "outputs": [],
   "source": [
    "import os\n",
    "import shutil\n",
    "import datetime as dt\n",
    "import pandas as pd\n",
    "from pathlib import Path\n",
    "\n",
    "def store_csv(df, filename, folder):\n",
    "    print(f\"Storing {filename} to output folder\")\n",
    "    fullpath = os.path.join(folder, filename)\n",
    "    df.to_csv(fullpath, index=False, sep =',', decimal='.')\n",
    "\n",
    "def get_or_create_folder(baseDir, folderName):\n",
    "    path = os.path.join(baseDir, folderName)\n",
    "    if(not os.path.exists(path)):\n",
    "        os.mkdir(path)\n",
    "    return path\n",
    "\n",
    "# create folders if they don't exist\n",
    "current_dir = os.getcwd()\n",
    "raw_folder = get_or_create_folder(current_dir, 'raw')\n",
    "cns_folder_raw = get_or_create_folder(raw_folder, 'cnsfails')\n",
    "\n",
    "sanitized_folder = get_or_create_folder(current_dir, 'sanitized')\n",
    "cns_folder_sanitized = get_or_create_folder(sanitized_folder, 'cnsfails-txt')\n",
    "csv_yearly = get_or_create_folder(sanitized_folder, 'cnsfails-yearly')"
   ]
  },
  {
   "cell_type": "code",
   "execution_count": 4,
   "metadata": {},
   "outputs": [
    {
     "name": "stderr",
     "output_type": "stream",
     "text": [
      "<timed exec>:34: SettingWithCopyWarning: \n",
      "A value is trying to be set on a copy of a slice from a DataFrame\n",
      "\n",
      "See the caveats in the documentation: https://pandas.pydata.org/pandas-docs/stable/user_guide/indexing.html#returning-a-view-versus-a-copy\n"
     ]
    },
    {
     "name": "stdout",
     "output_type": "stream",
     "text": [
      "Storing historic-prices-metadata.csv to output folder\n",
      "Wall time: 1.82 s\n"
     ]
    }
   ],
   "source": [
    "%%time\n",
    "import yfinance as yf\n",
    "import contextlib\n",
    "\n",
    "historic_prices_folder = get_or_create_folder(raw_folder, 'historical-prices')\n",
    "df_symbols = pd.read_csv(os.path.join(sanitized_folder, f\"cnsfails-symbol.csv\"), index_col=None, header=0, sep =',', decimal='.')\n",
    "df_historic_metadata = df_symbols\n",
    "\n",
    "historic_metadata_path = os.path.join(historic_prices_folder, f\"historic-prices-metadata.csv\")\n",
    "if(os.path.exists(historic_metadata_path)):\n",
    "    old_df_historic_metadata = pd.read_csv(historic_metadata_path, index_col=None, header=0, sep =',', decimal='.')\n",
    "    old_df_historic_metadata = old_df_historic_metadata[['SYMBOL', 'PRICE DATA']]\n",
    "    df_historic_metadata = df_historic_metadata.set_index('SYMBOL').join(old_df_historic_metadata.set_index('SYMBOL'), how='left').reset_index()\n",
    "else:\n",
    "    df_historic_metadata['PRICE DATA'] = [\"Not Processed\"] * len(df_historic_metadata.index)\n",
    "\n",
    "\n",
    "\n",
    "offset = 0\n",
    "limit = 10000\n",
    "period = 'max' # valid periods: 1d,5d,1mo,3mo,6mo,1y,2y,5y,10y,ytd,max\n",
    "\n",
    "end = min(offset + limit, len(df_historic_metadata.index))\n",
    "# force silencing of verbose API\n",
    "#with open(os.devnull, 'w') as devnull:\n",
    "#    with contextlib.redirect_stdout(devnull):\n",
    "for i in range(offset, end):\n",
    "    s = df_historic_metadata['SYMBOL'][i]\n",
    "    r = df_historic_metadata['PRICE DATA'][i]\n",
    "    if(r == 'No Data Found'):\n",
    "        continue\n",
    "    try:\n",
    "        file_path = os.path.join(historic_prices_folder, f'SYMBOL-{s}.csv')\n",
    "        if(os.path.exists(file_path)):\n",
    "                df_historic_metadata['PRICE DATA'][i] = \"Downloaded\"\n",
    "                continue\n",
    "        data = yf.download(s, period=period)\n",
    "        if len(data.index) == 0:\n",
    "            df_historic_metadata['PRICE DATA'][i] = \"No Data Found\"\n",
    "            continue\n",
    "    \n",
    "        df_historic_metadata['PRICE DATA'][i] = \"Downloaded\"\n",
    "        data.to_csv(file_path)\n",
    "    except Exception as e:\n",
    "        print(f\"Exception for symbol {s}, entry #{i}: {e}\")\n",
    "        df_historic_metadata['PRICE DATA'][i] = f\"Exception: {e}\"\n",
    "\n",
    "\n",
    "store_csv(df_historic_metadata, f\"historic-prices-metadata.csv\", historic_prices_folder)"
   ]
  },
  {
   "cell_type": "code",
   "execution_count": null,
   "metadata": {},
   "outputs": [],
   "source": [
    "df_symbols_metadata = pd.read_csv(\"http://www.nasdaqtrader.com/dynamic/SymDir/nasdaqtraded.txt\", sep='|')\n",
    "df_symbols_metadata = df_symbols_metadata.rename(columns={\"Symbol\": \"SYMBOL\"})\n",
    "df_symbols_metadata = df_symbols_metadata.rename(columns={\"Security Name\": \"DESCRIPTION\"})\n",
    "df_symbols_metadata = df_symbols_metadata[['SYMBOL', 'DESCRIPTION', 'ETF']]\n",
    "df_symbols_metadata.head()"
   ]
  }
 ],
 "metadata": {
  "interpreter": {
   "hash": "226b0bfe565b1b26ba0fac29fd4d427cb0aeca81c7a6f675349b9931f46b38c7"
  },
  "kernelspec": {
   "display_name": "Python 3.8.5 64-bit",
   "language": "python",
   "name": "python3"
  },
  "language_info": {
   "codemirror_mode": {
    "name": "ipython",
    "version": 3
   },
   "file_extension": ".py",
   "mimetype": "text/x-python",
   "name": "python",
   "nbconvert_exporter": "python",
   "pygments_lexer": "ipython3",
   "version": "3.10.0"
  },
  "metadata": {
   "interpreter": {
    "hash": "226b0bfe565b1b26ba0fac29fd4d427cb0aeca81c7a6f675349b9931f46b38c7"
   }
  },
  "orig_nbformat": 2
 },
 "nbformat": 4,
 "nbformat_minor": 2
}
