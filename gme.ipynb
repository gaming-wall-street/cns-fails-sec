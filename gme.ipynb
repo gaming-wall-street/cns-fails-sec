{
 "cells": [
  {
   "cell_type": "code",
   "execution_count": 12,
   "metadata": {},
   "outputs": [],
   "source": [
    "import os\n",
    "import pandas as pd\n",
    "import numpy as np\n",
    "import matplotlib.pyplot as plt\n",
    "from pathlib import Path\n",
    "\n",
    "input_folder = os.path.join(os.getcwd(),'raw')\n",
    "if(not os.path.exists(input_folder)):\n",
    "    os.mkdir(input_folder)\n",
    "\n",
    "output_folder = os.path.join(os.getcwd(),'generated')\n",
    "if(not os.path.exists(output_folder)):\n",
    "    os.mkdir(output_folder)"
   ]
  },
  {
   "cell_type": "code",
   "execution_count": 16,
   "metadata": {},
   "outputs": [
    {
     "name": "stdout",
     "output_type": "stream",
     "text": [
      "Skip https://www.sec.gov/files/data/fails-deliver-data/cnsfails202107a.zip\n",
      "Skip https://www.sec.gov/files/data/fails-deliver-data/cnsfails202107b.zip\n",
      "Skip https://www.sec.gov/files/data/fails-deliver-data/cnsfails202108a.zip\n",
      "Skip https://www.sec.gov/files/data/fails-deliver-data/cnsfails202108b.zip\n",
      "Skip https://www.sec.gov/files/data/fails-deliver-data/cnsfails202109a.zip\n",
      "Skip https://www.sec.gov/files/data/fails-deliver-data/cnsfails202109b.zip\n",
      "Skip https://www.sec.gov/files/data/fails-deliver-data/cnsfails202110a.zip\n",
      "Skip https://www.sec.gov/files/data/fails-deliver-data/cnsfails202110b.zip\n"
     ]
    }
   ],
   "source": [
    "from io import BytesIO\n",
    "from zipfile import ZipFile\n",
    "from urllib.request import urlopen\n",
    "\n",
    "# example url https://www.sec.gov/files/data/fails-deliver-data/cnsfails202110b.zip\n",
    "base_url = \"https://www.sec.gov/files/data/fails-deliver-data/\"\n",
    "file_prefix = \"cnsfails\"\n",
    "start_year = 2021\n",
    "start_month = 7\n",
    "end_year = 2021\n",
    "end_month = 10\n",
    "\n",
    "def download_and_unzip(url):\n",
    "    resp = urlopen(url)\n",
    "    zipfile = ZipFile(BytesIO(resp.read()))\n",
    "    zipfile.extractall(path=input_folder)\n",
    "\n",
    "def download_if_necessary(url, downloaded_files):\n",
    "    if(url not in downloaded_files):\n",
    "        print(\"Download \" + url)\n",
    "        download_and_unzip(url)\n",
    "        downloaded_files.append(url)\n",
    "    else:\n",
    "        print(\"Skip \" + url)\n",
    "\n",
    "# Store already downloaded files in a list\n",
    "downloaded_files_path = f\"{input_folder}/downloaded.txt\"\n",
    "downloaded_files = []\n",
    "if(os.path.exists(downloaded_files_path)):\n",
    "    with open(downloaded_files_path, 'r') as f:\n",
    "        downloaded_files = f.readlines()\n",
    "    downloaded_files = list(map(lambda s: s.strip(), downloaded_files))\n",
    "\n",
    "# download all files in the time range that have not yet been downloaded\n",
    "for year in range(start_year, end_year+1):\n",
    "    start = start_month if (year == start_year) else 1\n",
    "    end = end_month if (year == end_year) else 12\n",
    "    for month in range(start, end+1):\n",
    "        download_if_necessary(f\"{base_url}{file_prefix}{year}{month:02d}a.zip\", downloaded_files)\n",
    "        download_if_necessary(f\"{base_url}{file_prefix}{year}{month:02d}b.zip\", downloaded_files)\n",
    "\n",
    "with open(downloaded_files_path, 'w') as f:\n",
    "    f.write(\"\\n\".join(map(str, downloaded_files)))"
   ]
  },
  {
   "cell_type": "code",
   "execution_count": 14,
   "metadata": {},
   "outputs": [
    {
     "name": "stdout",
     "output_type": "stream",
     "text": [
      "Read csv c:\\Data\\Documents\\Python\\gme\\raw\\cnsfails202107a.txt\n",
      "Read csv c:\\Data\\Documents\\Python\\gme\\raw\\cnsfails202107b.txt\n",
      "Read csv c:\\Data\\Documents\\Python\\gme\\raw\\cnsfails202108a.txt\n",
      "Read csv c:\\Data\\Documents\\Python\\gme\\raw\\cnsfails202108b.txt\n",
      "Read csv c:\\Data\\Documents\\Python\\gme\\raw\\cnsfails202109a.txt\n",
      "Read csv c:\\Data\\Documents\\Python\\gme\\raw\\cnsfails202109b.txt\n",
      "Read csv c:\\Data\\Documents\\Python\\gme\\raw\\cnsfails202110a.txt\n",
      "Read csv c:\\Data\\Documents\\Python\\gme\\raw\\cnsfails202110b.txt\n"
     ]
    },
    {
     "data": {
      "text/plain": [
       "SETTLEMENT DATE     478860\n",
       "CUSIP               478844\n",
       "SYMBOL              478844\n",
       "QUANTITY (FAILS)    478844\n",
       "DESCRIPTION         478844\n",
       "PRICE               478844\n",
       "dtype: int64"
      ]
     },
     "execution_count": 14,
     "metadata": {},
     "output_type": "execute_result"
    }
   ],
   "source": [
    "def read_csv(input_folder, name):\n",
    "    li = []\n",
    "\n",
    "    for path in Path(input_folder).rglob(f'*{name}*.txt'):\n",
    "        print(f\"Read csv {path}\")\n",
    "        csv_df = pd.read_csv(path, index_col=None, header=0, sep ='|', encoding = \"ISO-8859-1\")\n",
    "        li.append(csv_df)\n",
    "\n",
    "    df = pd.concat(li, axis=0, ignore_index=True)\n",
    "    return df\n",
    "\n",
    "df = read_csv(input_folder, 'cnsfails')\n",
    "df.head()\n",
    "df.count()"
   ]
  },
  {
   "cell_type": "code",
   "execution_count": 15,
   "metadata": {},
   "outputs": [],
   "source": [
    "def store_csv(df, filename, output_folder):\n",
    "    fullpath = os.path.join(output_folder, filename)\n",
    "    df.to_csv(fullpath, index=False, sep =',', decimal='.')\n",
    "\n",
    "store_csv(df, f\"{start_year}{start_month:02d}-{end_year}{end_month:02d}combined.csv\", output_folder)"
   ]
  }
 ],
 "metadata": {
  "interpreter": {
   "hash": "226b0bfe565b1b26ba0fac29fd4d427cb0aeca81c7a6f675349b9931f46b38c7"
  },
  "kernelspec": {
   "display_name": "Python 3.8.5 64-bit",
   "language": "python",
   "name": "python3"
  },
  "language_info": {
   "codemirror_mode": {
    "name": "ipython",
    "version": 3
   },
   "file_extension": ".py",
   "mimetype": "text/x-python",
   "name": "python",
   "nbconvert_exporter": "python",
   "pygments_lexer": "ipython3",
   "version": "3.8.5"
  },
  "metadata": {
   "interpreter": {
    "hash": "226b0bfe565b1b26ba0fac29fd4d427cb0aeca81c7a6f675349b9931f46b38c7"
   }
  },
  "orig_nbformat": 2
 },
 "nbformat": 4,
 "nbformat_minor": 2
}
