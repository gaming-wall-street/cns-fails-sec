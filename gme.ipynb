{
 "cells": [
  {
   "cell_type": "code",
   "execution_count": 1,
   "metadata": {},
   "outputs": [],
   "source": [
    "import os\n",
    "import pandas as pd\n",
    "import numpy as np\n",
    "import matplotlib.pyplot as plt\n",
    "from pathlib import Path\n",
    "\n",
    "input_folder = os.path.join(os.getcwd(),'raw')\n",
    "if(not os.path.exists(input_folder)):\n",
    "    os.mkdir(input_folder)\n",
    "\n",
    "output_folder = os.path.join(os.getcwd(),'generated')\n",
    "if(not os.path.exists(output_folder)):\n",
    "    os.mkdir(output_folder)"
   ]
  },
  {
   "cell_type": "code",
   "execution_count": 7,
   "metadata": {},
   "outputs": [
    {
     "name": "stdout",
     "output_type": "stream",
     "text": [
      "Download https://www.sec.gov/files/data/fails-deliver-data/cnsfails202107a.zip\n",
      "Download https://www.sec.gov/files/data/fails-deliver-data/cnsfails202107b.zip\n",
      "Download https://www.sec.gov/files/data/fails-deliver-data/cnsfails202108a.zip\n",
      "Download https://www.sec.gov/files/data/fails-deliver-data/cnsfails202108b.zip\n",
      "Download https://www.sec.gov/files/data/fails-deliver-data/cnsfails202109a.zip\n",
      "Download https://www.sec.gov/files/data/fails-deliver-data/cnsfails202109b.zip\n",
      "Download https://www.sec.gov/files/data/fails-deliver-data/cnsfails202110a.zip\n",
      "Download https://www.sec.gov/files/data/fails-deliver-data/cnsfails202110b.zip\n"
     ]
    }
   ],
   "source": [
    "from io import BytesIO\n",
    "from zipfile import ZipFile\n",
    "from urllib.request import urlopen\n",
    "\n",
    "# Full example url https://www.sec.gov/files/data/fails-deliver-data/cnsfails202110b.zip\n",
    "base_url = \"https://www.sec.gov/files/data/fails-deliver-data/\"\n",
    "file_prefix = \"cnsfails\"\n",
    "start_year = 2021\n",
    "start_month = 7\n",
    "end_year = 2021\n",
    "end_month = 10\n",
    "\n",
    "def download_and_unzip(url):\n",
    "    print(\"Download \" + url)\n",
    "    resp = urlopen(url)\n",
    "    zipfile = ZipFile(BytesIO(resp.read()))\n",
    "    zipfile.extractall(path=input_folder)\n",
    "\n",
    "for year in range(start_year, end_year+1):\n",
    "    start = start_month if (year == start_year) else 1\n",
    "    end = end_month if (year == end_year) else 12\n",
    "    for month in range(start, end+1):\n",
    "        download_and_unzip(f\"{base_url}{file_prefix}{year}{month:02d}a.zip\")\n",
    "        download_and_unzip(f\"{base_url}{file_prefix}{year}{month:02d}b.zip\")\n",
    "\n"
   ]
  },
  {
   "cell_type": "code",
   "execution_count": 17,
   "metadata": {},
   "outputs": [
    {
     "name": "stdout",
     "output_type": "stream",
     "text": [
      "Read csv c:\\Data\\Documents\\Python\\gme\\raw\\cnsfails202107a.txt\n",
      "Read csv c:\\Data\\Documents\\Python\\gme\\raw\\cnsfails202107b.txt\n",
      "Read csv c:\\Data\\Documents\\Python\\gme\\raw\\cnsfails202108a.txt\n",
      "Read csv c:\\Data\\Documents\\Python\\gme\\raw\\cnsfails202108b.txt\n",
      "Read csv c:\\Data\\Documents\\Python\\gme\\raw\\cnsfails202109a.txt\n",
      "Read csv c:\\Data\\Documents\\Python\\gme\\raw\\cnsfails202109b.txt\n",
      "Read csv c:\\Data\\Documents\\Python\\gme\\raw\\cnsfails202110a.txt\n"
     ]
    },
    {
     "data": {
      "text/html": [
       "<div>\n",
       "<style scoped>\n",
       "    .dataframe tbody tr th:only-of-type {\n",
       "        vertical-align: middle;\n",
       "    }\n",
       "\n",
       "    .dataframe tbody tr th {\n",
       "        vertical-align: top;\n",
       "    }\n",
       "\n",
       "    .dataframe thead th {\n",
       "        text-align: right;\n",
       "    }\n",
       "</style>\n",
       "<table border=\"1\" class=\"dataframe\">\n",
       "  <thead>\n",
       "    <tr style=\"text-align: right;\">\n",
       "      <th></th>\n",
       "      <th>SETTLEMENT DATE</th>\n",
       "      <th>CUSIP</th>\n",
       "      <th>SYMBOL</th>\n",
       "      <th>QUANTITY (FAILS)</th>\n",
       "      <th>DESCRIPTION</th>\n",
       "      <th>PRICE</th>\n",
       "    </tr>\n",
       "  </thead>\n",
       "  <tbody>\n",
       "    <tr>\n",
       "      <th>0</th>\n",
       "      <td>20210701</td>\n",
       "      <td>B38564108</td>\n",
       "      <td>EURN</td>\n",
       "      <td>190881.0</td>\n",
       "      <td>EURONAV NV ANTWERPEN (BELGIUM)</td>\n",
       "      <td>9.32</td>\n",
       "    </tr>\n",
       "    <tr>\n",
       "      <th>1</th>\n",
       "      <td>20210701</td>\n",
       "      <td>D1668R123</td>\n",
       "      <td>DDAIF</td>\n",
       "      <td>340460.0</td>\n",
       "      <td>DAIMLER AG</td>\n",
       "      <td>89.90</td>\n",
       "    </tr>\n",
       "    <tr>\n",
       "      <th>2</th>\n",
       "      <td>20210701</td>\n",
       "      <td>D18190898</td>\n",
       "      <td>DB</td>\n",
       "      <td>3551.0</td>\n",
       "      <td>DEUTSCHE BANK AG NAMEN AKT (DE</td>\n",
       "      <td>13.08</td>\n",
       "    </tr>\n",
       "    <tr>\n",
       "      <th>3</th>\n",
       "      <td>20210701</td>\n",
       "      <td>G0083D120</td>\n",
       "      <td>ACEV</td>\n",
       "      <td>45.0</td>\n",
       "      <td>ACE CONVERGENCE ACQUISITION CO</td>\n",
       "      <td>9.96</td>\n",
       "    </tr>\n",
       "    <tr>\n",
       "      <th>4</th>\n",
       "      <td>20210701</td>\n",
       "      <td>G0083E110</td>\n",
       "      <td>ACBAW</td>\n",
       "      <td>3050.0</td>\n",
       "      <td>ACE GLOBAL BUSINESS ACQSTN LTD</td>\n",
       "      <td>0.49</td>\n",
       "    </tr>\n",
       "  </tbody>\n",
       "</table>\n",
       "</div>"
      ],
      "text/plain": [
       "  SETTLEMENT DATE      CUSIP SYMBOL  QUANTITY (FAILS)  \\\n",
       "0        20210701  B38564108   EURN          190881.0   \n",
       "1        20210701  D1668R123  DDAIF          340460.0   \n",
       "2        20210701  D18190898     DB            3551.0   \n",
       "3        20210701  G0083D120   ACEV              45.0   \n",
       "4        20210701  G0083E110  ACBAW            3050.0   \n",
       "\n",
       "                      DESCRIPTION  PRICE  \n",
       "0  EURONAV NV ANTWERPEN (BELGIUM)   9.32  \n",
       "1                      DAIMLER AG  89.90  \n",
       "2  DEUTSCHE BANK AG NAMEN AKT (DE  13.08  \n",
       "3  ACE CONVERGENCE ACQUISITION CO   9.96  \n",
       "4  ACE GLOBAL BUSINESS ACQSTN LTD   0.49  "
      ]
     },
     "execution_count": 17,
     "metadata": {},
     "output_type": "execute_result"
    }
   ],
   "source": [
    "def read_csv(input_folder, name):\n",
    "    li = []\n",
    "\n",
    "    for path in Path(input_folder).rglob(f'*{name}*.txt'):\n",
    "        print(f\"Read csv {path}\")\n",
    "        csv_df = pd.read_csv(path, index_col=None, header=0, sep ='|', encoding = \"ISO-8859-1\")\n",
    "        li.append(csv_df)\n",
    "\n",
    "    df = pd.concat(li, axis=0, ignore_index=True)\n",
    "    return df\n",
    "\n",
    "df = read_csv(input_folder, 'cnsfails')\n",
    "df.head()"
   ]
  }
 ],
 "metadata": {
  "interpreter": {
   "hash": "226b0bfe565b1b26ba0fac29fd4d427cb0aeca81c7a6f675349b9931f46b38c7"
  },
  "kernelspec": {
   "display_name": "Python 3.8.5 64-bit",
   "language": "python",
   "name": "python3"
  },
  "language_info": {
   "codemirror_mode": {
    "name": "ipython",
    "version": 3
   },
   "file_extension": ".py",
   "mimetype": "text/x-python",
   "name": "python",
   "nbconvert_exporter": "python",
   "pygments_lexer": "ipython3",
   "version": "3.8.5"
  },
  "metadata": {
   "interpreter": {
    "hash": "226b0bfe565b1b26ba0fac29fd4d427cb0aeca81c7a6f675349b9931f46b38c7"
   }
  },
  "orig_nbformat": 2
 },
 "nbformat": 4,
 "nbformat_minor": 2
}
