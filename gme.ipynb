{
 "cells": [
  {
   "cell_type": "code",
   "execution_count": 9,
   "metadata": {},
   "outputs": [],
   "source": [
    "import os\n",
    "import pandas as pd\n",
    "import numpy as np\n",
    "import matplotlib.pyplot as plt\n",
    "from pathlib import Path\n",
    "\n",
    "input_folder = os.path.join(os.getcwd(), 'raw')\n",
    "if(not os.path.exists(input_folder)):\n",
    "    os.mkdir(input_folder)\n",
    "\n",
    "cns_folder = os.path.join(input_folder, 'cnsfails')\n",
    "if(not os.path.exists(cns_folder)):\n",
    "    os.mkdir(cns_folder)\n",
    "\n",
    "output_folder = os.path.join(os.getcwd(), 'generated')\n",
    "if(not os.path.exists(output_folder)):\n",
    "    os.mkdir(output_folder)"
   ]
  },
  {
   "cell_type": "code",
   "execution_count": 10,
   "metadata": {},
   "outputs": [
    {
     "name": "stdout",
     "output_type": "stream",
     "text": [
      "318 files downloaded or already found in the cache\n"
     ]
    }
   ],
   "source": [
    "from io import BytesIO\n",
    "from zipfile import ZipFile\n",
    "from urllib.request import urlopen\n",
    "\n",
    "start_year = 2004\n",
    "start_month = 1\n",
    "end_year = 2021\n",
    "end_month = 10\n",
    "\n",
    "def download_and_unzip(url):\n",
    "    resp = urlopen(url)\n",
    "    zipfile = ZipFile(BytesIO(resp.read()))\n",
    "    zipfile.extractall(path=cns_folder)\n",
    "\n",
    "def download_if_necessary(url, downloaded_files):\n",
    "    if(url not in downloaded_files):\n",
    "        print(\"Download \" + url)\n",
    "        download_and_unzip(url)\n",
    "        downloaded_files.append(url)\n",
    "\n",
    "# Store already downloaded files in a list\n",
    "downloaded_files_path = f\"{cns_folder}/downloaded.txt\"\n",
    "downloaded_files = []\n",
    "if(os.path.exists(downloaded_files_path)):\n",
    "    with open(downloaded_files_path, 'r') as f:\n",
    "        downloaded_files = f.readlines()\n",
    "    downloaded_files = list(map(lambda s: s.strip(), downloaded_files))\n",
    "\n",
    "# download all files in the time range that have not yet been downloaded\n",
    "# Sadly they have quite scrambled naming schemas\n",
    "# Only first entry  https://www.sec.gov/files/data/fails-deliver-data/cnsp_sec_fails_2004q1.zip\n",
    "# Until 2009-06     https://www.sec.gov/files/data/frequently-requested-foia-document-fails-deliver-data/cnsp_sec_fails_2004q2.zip\n",
    "# Until 2017-06a    https://www.sec.gov/files/data/frequently-requested-foia-document-fails-deliver-data/cnsfails201706a.zip\n",
    "# Starting 2017-06b https://www.sec.gov/files/data/fails-deliver-data/cnsfails201706b.zip\n",
    "# Between 2020-02 and 2020-04     https://www.sec.gov/files/node/add/data_distribution/cnsfails202002a.zip\n",
    "base_url_long = \"https://www.sec.gov/files/data/frequently-requested-foia-document-fails-deliver-data/\"\n",
    "base_url_short = \"https://www.sec.gov/files/data/fails-deliver-data/\"\n",
    "base_url_data = \"https://www.sec.gov/files/node/add/data_distribution/\"\n",
    "for year in range(start_year, end_year+1):\n",
    "    start = start_month if (year == start_year) else 1\n",
    "    end = end_month if (year == end_year) else 12\n",
    "    for month in range(start, end+1):\n",
    "        # First entry has a different naming\n",
    "        if(year == 2004 and month <= 3):\n",
    "            if(month == 3):\n",
    "                download_if_necessary(f\"{base_url_short}cnsp_sec_fails_2004q1.zip\", downloaded_files)\n",
    "            continue\n",
    "        \n",
    "        # up to Q2 2009, the files were quarter chunks\n",
    "        if(year < 2009 or (year == 2009 and month <= 6) ):\n",
    "            if(month % 3 == 0):\n",
    "                quarter = int(month/3)\n",
    "                download_if_necessary(f\"{base_url_long}cnsp_sec_fails_{year}q{quarter}.zip\", downloaded_files)\n",
    "            continue\n",
    "\n",
    "        # Special mixed case for 2017-06\n",
    "        if(year == 2017 and month == 6):\n",
    "            download_if_necessary(f\"{base_url_long}cnsfails{year}{month:02d}a.zip\", downloaded_files)\n",
    "            download_if_necessary(f\"{base_url_short}cnsfails{year}{month:02d}b.zip\", downloaded_files)\n",
    "            continue\n",
    "\n",
    "        # Special case 2019-10\n",
    "        if(year == 2019 and month == 10):\n",
    "            download_if_necessary(f\"{base_url_short}cnsfails{year}{month:02d}a_0.zip\", downloaded_files)\n",
    "            download_if_necessary(f\"{base_url_short}cnsfails{year}{month:02d}b.zip\", downloaded_files)\n",
    "            continue\n",
    "\n",
    "        base_url = base_url_long if(year < 2017 or (year == 2017 and month <6)) else base_url_short\n",
    "        #Special case 2020-02 - 2020-04\n",
    "        if(year == 2020 and (month >= 2 and month <= 4)):\n",
    "            base_url = base_url_data\n",
    "\n",
    "        download_if_necessary(f\"{base_url}cnsfails{year}{month:02d}a.zip\", downloaded_files)\n",
    "        download_if_necessary(f\"{base_url}cnsfails{year}{month:02d}b.zip\", downloaded_files)\n",
    "\n",
    "with open(downloaded_files_path, 'w') as f:\n",
    "    f.write(\"\\n\".join(map(str, downloaded_files)))\n",
    "\n",
    "print(f\"{len(downloaded_files)} files downloaded or already found in the cache\")"
   ]
  },
  {
   "cell_type": "code",
   "execution_count": null,
   "metadata": {},
   "outputs": [
    {
     "name": "stdout",
     "output_type": "stream",
     "text": [
      "Read csv c:\\Data\\Documents\\Python\\gme\\raw\\cnsfails202107a.txt\n",
      "Read csv c:\\Data\\Documents\\Python\\gme\\raw\\cnsfails202107b.txt\n",
      "Read csv c:\\Data\\Documents\\Python\\gme\\raw\\cnsfails202108a.txt\n",
      "Read csv c:\\Data\\Documents\\Python\\gme\\raw\\cnsfails202108b.txt\n",
      "Read csv c:\\Data\\Documents\\Python\\gme\\raw\\cnsfails202109a.txt\n",
      "Read csv c:\\Data\\Documents\\Python\\gme\\raw\\cnsfails202109b.txt\n",
      "Read csv c:\\Data\\Documents\\Python\\gme\\raw\\cnsfails202110a.txt\n",
      "Read csv c:\\Data\\Documents\\Python\\gme\\raw\\cnsfails202110b.txt\n"
     ]
    },
    {
     "data": {
      "text/plain": [
       "SETTLEMENT DATE     478860\n",
       "CUSIP               478844\n",
       "SYMBOL              478844\n",
       "QUANTITY (FAILS)    478844\n",
       "DESCRIPTION         478844\n",
       "PRICE               478844\n",
       "dtype: int64"
      ]
     },
     "execution_count": 14,
     "metadata": {},
     "output_type": "execute_result"
    }
   ],
   "source": [
    "def read_csv(folder, name):\n",
    "    li = []\n",
    "\n",
    "    for path in Path(folder).rglob(f'*{name}*.txt'):\n",
    "        print(f\"Read csv {path}\")\n",
    "        csv_df = pd.read_csv(path, index_col=None, header=0, sep ='|', encoding = \"ISO-8859-1\")\n",
    "        li.append(csv_df)\n",
    "\n",
    "    df = pd.concat(li, axis=0, ignore_index=True)\n",
    "    return df\n",
    "\n",
    "df = read_csv(cns_folder, 'cnsfails')\n",
    "df.head()\n",
    "df.count()"
   ]
  },
  {
   "cell_type": "code",
   "execution_count": null,
   "metadata": {},
   "outputs": [],
   "source": [
    "def store_csv(df, filename, output_folder):\n",
    "    fullpath = os.path.join(output_folder, filename)\n",
    "    df.to_csv(fullpath, index=False, sep =',', decimal='.')\n",
    "\n",
    "store_csv(df, f\"cnsfails-{start_year}{start_month:02d}-{end_year}{end_month:02d}.csv\", output_folder)"
   ]
  }
 ],
 "metadata": {
  "interpreter": {
   "hash": "226b0bfe565b1b26ba0fac29fd4d427cb0aeca81c7a6f675349b9931f46b38c7"
  },
  "kernelspec": {
   "display_name": "Python 3.8.5 64-bit",
   "language": "python",
   "name": "python3"
  },
  "language_info": {
   "codemirror_mode": {
    "name": "ipython",
    "version": 3
   },
   "file_extension": ".py",
   "mimetype": "text/x-python",
   "name": "python",
   "nbconvert_exporter": "python",
   "pygments_lexer": "ipython3",
   "version": "3.8.5"
  },
  "metadata": {
   "interpreter": {
    "hash": "226b0bfe565b1b26ba0fac29fd4d427cb0aeca81c7a6f675349b9931f46b38c7"
   }
  },
  "orig_nbformat": 2
 },
 "nbformat": 4,
 "nbformat_minor": 2
}
