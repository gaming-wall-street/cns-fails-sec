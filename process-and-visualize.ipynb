{
 "cells": [
  {
   "cell_type": "markdown",
   "metadata": {},
   "source": [
    "# Process data\n",
    "This notebook uses the sanitized data from `download-and-sanitize`"
   ]
  },
  {
   "cell_type": "code",
   "execution_count": 80,
   "metadata": {},
   "outputs": [],
   "source": [
    "import os\n",
    "import datetime as dt\n",
    "import pandas as pd\n",
    "import numpy as np\n",
    "import matplotlib.pyplot as plt\n",
    "from pathlib import Path\n",
    "\n",
    "def store_csv(df, filename, folder):\n",
    "    print(f\"Storing {filename} to output folder\")\n",
    "    fullpath = os.path.join(folder, filename)\n",
    "    df.to_csv(fullpath, index=False, sep =',', decimal='.', float_format='%.5f')\n",
    "\n",
    "def get_or_create_folder(baseDir, folderName):\n",
    "    path = os.path.join(baseDir, folderName)\n",
    "    if(not os.path.exists(path)):\n",
    "        os.mkdir(path)\n",
    "    return path\n",
    "\n",
    "current_dir = os.getcwd()\n",
    "\n",
    "sanitized_folder = get_or_create_folder(current_dir, 'sanitized')\n",
    "processed_folder = get_or_create_folder(current_dir, 'processed')\n",
    "csv_yearly = get_or_create_folder(sanitized_folder, 'cnsfails-yearly')\n"
   ]
  },
  {
   "cell_type": "code",
   "execution_count": 81,
   "metadata": {},
   "outputs": [
    {
     "name": "stdout",
     "output_type": "stream",
     "text": [
      "Reading all files in memory for pandas, this will take some time\n",
      "Read file cnsfails-2004.csv\n",
      "Read file cnsfails-2005.csv\n",
      "Read file cnsfails-2006.csv\n",
      "Read file cnsfails-2007.csv\n",
      "Read file cnsfails-2008.csv\n",
      "Read file cnsfails-2009.csv\n",
      "Read file cnsfails-2010.csv\n",
      "Read file cnsfails-2011.csv\n",
      "Read file cnsfails-2012.csv\n",
      "Read file cnsfails-2013.csv\n",
      "Read file cnsfails-2014.csv\n",
      "Read file cnsfails-2015.csv\n",
      "Read file cnsfails-2016.csv\n",
      "Read file cnsfails-2017.csv\n",
      "Read file cnsfails-2018.csv\n",
      "Read file cnsfails-2019.csv\n",
      "Read file cnsfails-2020.csv\n",
      "Read file cnsfails-2021.csv\n",
      "Fles read, generating dataframe\n",
      "dataframe generated\n"
     ]
    },
    {
     "data": {
      "text/plain": [
       "DATE      21348881\n",
       "SYMBOL    21348871\n",
       "FAILS     21348881\n",
       "PRICE     21348881\n",
       "dtype: int64"
      ]
     },
     "execution_count": 81,
     "metadata": {},
     "output_type": "execute_result"
    }
   ],
   "source": [
    "def read_csv(folder, name):\n",
    "    li = []\n",
    "    print(f\"Reading all files in memory for pandas, this will take some time\")\n",
    "    for path in Path(folder).rglob(f'*{name}*.csv'):\n",
    "        filename = os.path.basename(path)\n",
    "        print(f\"Read file {filename}\")\n",
    "        csv_df = pd.read_csv(path, index_col=None, header=0, sep =',', decimal='.', parse_dates=['DATE'],\\\n",
    "            dtype={'SYMBOL': 'str', 'QUANTITY': 'int', 'PRICE': 'float'})\n",
    "        li.append(csv_df)\n",
    "    \n",
    "    print(f\"Fles read, generating dataframe\")\n",
    "    df = pd.concat(li, axis=0, ignore_index=True)\n",
    "    print(f\"dataframe generated\")\n",
    "    return df\n",
    "\n",
    "\n",
    "# You can easily also just filter for one year: e.g. 'cnsfails-2021'\n",
    "df = read_csv(csv_yearly, 'cns')\n",
    "df.count()"
   ]
  },
  {
   "cell_type": "code",
   "execution_count": 82,
   "metadata": {},
   "outputs": [
    {
     "data": {
      "text/html": [
       "<div>\n",
       "<style scoped>\n",
       "    .dataframe tbody tr th:only-of-type {\n",
       "        vertical-align: middle;\n",
       "    }\n",
       "\n",
       "    .dataframe tbody tr th {\n",
       "        vertical-align: top;\n",
       "    }\n",
       "\n",
       "    .dataframe thead th {\n",
       "        text-align: right;\n",
       "    }\n",
       "</style>\n",
       "<table border=\"1\" class=\"dataframe\">\n",
       "  <thead>\n",
       "    <tr style=\"text-align: right;\">\n",
       "      <th></th>\n",
       "      <th>DATE</th>\n",
       "      <th>SYMBOL</th>\n",
       "      <th>FAILS</th>\n",
       "      <th>PRICE</th>\n",
       "      <th>FAILVALUE</th>\n",
       "    </tr>\n",
       "  </thead>\n",
       "  <tbody>\n",
       "    <tr>\n",
       "      <th>2159998</th>\n",
       "      <td>2007-06-27</td>\n",
       "      <td>IWM</td>\n",
       "      <td>134504697</td>\n",
       "      <td>81.74</td>\n",
       "      <td>10994.413933</td>\n",
       "    </tr>\n",
       "    <tr>\n",
       "      <th>2156632</th>\n",
       "      <td>2007-06-26</td>\n",
       "      <td>IWM</td>\n",
       "      <td>126547156</td>\n",
       "      <td>82.49</td>\n",
       "      <td>10438.874898</td>\n",
       "    </tr>\n",
       "    <tr>\n",
       "      <th>2153448</th>\n",
       "      <td>2007-06-25</td>\n",
       "      <td>IWM</td>\n",
       "      <td>95656140</td>\n",
       "      <td>82.92</td>\n",
       "      <td>7931.807129</td>\n",
       "    </tr>\n",
       "    <tr>\n",
       "      <th>20826571</th>\n",
       "      <td>2021-06-21</td>\n",
       "      <td>SPY</td>\n",
       "      <td>14271236</td>\n",
       "      <td>414.92</td>\n",
       "      <td>5921.421241</td>\n",
       "    </tr>\n",
       "    <tr>\n",
       "      <th>7879982</th>\n",
       "      <td>2011-08-15</td>\n",
       "      <td>SPY</td>\n",
       "      <td>49563253</td>\n",
       "      <td>118.15</td>\n",
       "      <td>5855.898342</td>\n",
       "    </tr>\n",
       "  </tbody>\n",
       "</table>\n",
       "</div>"
      ],
      "text/plain": [
       "               DATE SYMBOL      FAILS   PRICE     FAILVALUE\n",
       "2159998  2007-06-27    IWM  134504697   81.74  10994.413933\n",
       "2156632  2007-06-26    IWM  126547156   82.49  10438.874898\n",
       "2153448  2007-06-25    IWM   95656140   82.92   7931.807129\n",
       "20826571 2021-06-21    SPY   14271236  414.92   5921.421241\n",
       "7879982  2011-08-15    SPY   49563253  118.15   5855.898342"
      ]
     },
     "execution_count": 82,
     "metadata": {},
     "output_type": "execute_result"
    }
   ],
   "source": [
    "# Fail value in million\n",
    "df['FAILVALUE'] = (df['FAILS'] * df['PRICE']) / 1000000\n",
    "df = df.sort_values(by=['FAILVALUE'], ascending=False)\n",
    "df.head()"
   ]
  },
  {
   "cell_type": "code",
   "execution_count": 83,
   "metadata": {},
   "outputs": [
    {
     "name": "stdout",
     "output_type": "stream",
     "text": [
      "Storing cnsfails-by-symbol.csv to output folder\n"
     ]
    }
   ],
   "source": [
    "df_symbols = df.groupby('SYMBOL').agg({'DATE':'count', 'FAILS': 'sum', 'FAILVALUE': 'sum'}).reset_index()\n",
    "df_symbols = df_symbols.rename(columns={\"DATE\": \"DAYCOUNT\"})\n",
    "df_symbols = df_symbols.sort_values(by=['FAILVALUE', 'FAILS'], ascending=False)\n",
    "\n",
    "store_csv(df_symbols, f\"cnsfails-by-symbol.csv\", processed_folder)"
   ]
  },
  {
   "cell_type": "code",
   "execution_count": 84,
   "metadata": {},
   "outputs": [
    {
     "name": "stdout",
     "output_type": "stream",
     "text": [
      "Storing cnsfails-by-day.csv to output folder\n"
     ]
    }
   ],
   "source": [
    "df_days = df.groupby('DATE').agg({'FAILS': 'sum', 'FAILVALUE': 'sum'}).reset_index()\n",
    "df_days = df_days.sort_values(by=['DATE'])\n",
    "\n",
    "store_csv(df_days, f\"cnsfails-by-day.csv\", processed_folder)"
   ]
  },
  {
   "cell_type": "code",
   "execution_count": 90,
   "metadata": {},
   "outputs": [
    {
     "data": {
      "text/html": [
       "<div>\n",
       "<style scoped>\n",
       "    .dataframe tbody tr th:only-of-type {\n",
       "        vertical-align: middle;\n",
       "    }\n",
       "\n",
       "    .dataframe tbody tr th {\n",
       "        vertical-align: top;\n",
       "    }\n",
       "\n",
       "    .dataframe thead th {\n",
       "        text-align: right;\n",
       "    }\n",
       "</style>\n",
       "<table border=\"1\" class=\"dataframe\">\n",
       "  <thead>\n",
       "    <tr style=\"text-align: right;\">\n",
       "      <th></th>\n",
       "      <th>DATE</th>\n",
       "      <th>SYMBOL</th>\n",
       "      <th>FAILS</th>\n",
       "      <th>PRICE</th>\n",
       "      <th>FAILVALUE</th>\n",
       "      <th>FAILS_PERCENT</th>\n",
       "      <th>FAILVALUE_PERCENT</th>\n",
       "    </tr>\n",
       "  </thead>\n",
       "  <tbody>\n",
       "    <tr>\n",
       "      <th>5</th>\n",
       "      <td>2015-09-15</td>\n",
       "      <td>SPY</td>\n",
       "      <td>28432148</td>\n",
       "      <td>196.01</td>\n",
       "      <td>5572.985329</td>\n",
       "      <td>0.143663</td>\n",
       "      <td>0.705634</td>\n",
       "    </tr>\n",
       "    <tr>\n",
       "      <th>68</th>\n",
       "      <td>2009-10-14</td>\n",
       "      <td>SPY</td>\n",
       "      <td>20859311</td>\n",
       "      <td>107.50</td>\n",
       "      <td>2242.375933</td>\n",
       "      <td>0.046250</td>\n",
       "      <td>0.675021</td>\n",
       "    </tr>\n",
       "    <tr>\n",
       "      <th>18</th>\n",
       "      <td>2015-09-11</td>\n",
       "      <td>SPY</td>\n",
       "      <td>20876457</td>\n",
       "      <td>195.85</td>\n",
       "      <td>4088.654103</td>\n",
       "      <td>0.107392</td>\n",
       "      <td>0.645724</td>\n",
       "    </tr>\n",
       "    <tr>\n",
       "      <th>1</th>\n",
       "      <td>2007-06-26</td>\n",
       "      <td>IWM</td>\n",
       "      <td>126547156</td>\n",
       "      <td>82.49</td>\n",
       "      <td>10438.874898</td>\n",
       "      <td>0.121910</td>\n",
       "      <td>0.644688</td>\n",
       "    </tr>\n",
       "    <tr>\n",
       "      <th>8</th>\n",
       "      <td>2015-09-14</td>\n",
       "      <td>SPY</td>\n",
       "      <td>25361596</td>\n",
       "      <td>196.74</td>\n",
       "      <td>4989.640397</td>\n",
       "      <td>0.145590</td>\n",
       "      <td>0.643690</td>\n",
       "    </tr>\n",
       "  </tbody>\n",
       "</table>\n",
       "</div>"
      ],
      "text/plain": [
       "         DATE SYMBOL      FAILS   PRICE     FAILVALUE  FAILS_PERCENT  \\\n",
       "5  2015-09-15    SPY   28432148  196.01   5572.985329       0.143663   \n",
       "68 2009-10-14    SPY   20859311  107.50   2242.375933       0.046250   \n",
       "18 2015-09-11    SPY   20876457  195.85   4088.654103       0.107392   \n",
       "1  2007-06-26    IWM  126547156   82.49  10438.874898       0.121910   \n",
       "8  2015-09-14    SPY   25361596  196.74   4989.640397       0.145590   \n",
       "\n",
       "    FAILVALUE_PERCENT  \n",
       "5            0.705634  \n",
       "68           0.675021  \n",
       "18           0.645724  \n",
       "1            0.644688  \n",
       "8            0.643690  "
      ]
     },
     "execution_count": 90,
     "metadata": {},
     "output_type": "execute_result"
    }
   ],
   "source": [
    "df_percentage = df.merge(df_days, how='left', on='DATE', suffixes=('', '_TOTAL'))\n",
    "df_percentage['FAILS_PERCENT'] = (df_percentage['FAILS'] / df_percentage['FAILS_TOTAL'])\n",
    "df_percentage['FAILVALUE_PERCENT'] = (df_percentage['FAILVALUE'] / df_percentage['FAILVALUE_TOTAL'])\n",
    "df_percentage = df_percentage.sort_values(by=['FAILVALUE_PERCENT'], ascending=False)\n",
    "df_percentage = df_percentage.drop(columns=['FAILS_TOTAL', 'FAILVALUE_TOTAL'])\n",
    "df_percentage.head()"
   ]
  },
  {
   "cell_type": "code",
   "execution_count": 92,
   "metadata": {},
   "outputs": [
    {
     "name": "stdout",
     "output_type": "stream",
     "text": [
      "Storing cnsfails-filtered-FAILVALUE_PERCENT-percentage.csv to output folder\n",
      "FAILVALUE_PERCENT >=5.0%: 5793\n",
      "Storing cnsfails-filtered-FAILS_PERCENT-percentage.csv to output folder\n",
      "FAILS_PERCENT >=5.0%: 9312\n"
     ]
    }
   ],
   "source": [
    "def filtered_percentage(df, column, threshold):\n",
    "    df_filtered = df[df[column] >= threshold]\n",
    "    df_filtered = df_filtered.sort_values(by=[column], ascending=False)\n",
    "    store_csv(df_filtered, f\"cnsfails-filtered-{column}.csv\", processed_folder)\n",
    "    print(f\"{column} >={threshold*100}%: {len(df_filtered.index)}\")\n",
    "    df_filtered.head()\n",
    "\n",
    "threshold_percent = .05\n",
    "\n",
    "filtered_percentage(df_percentage, 'FAILVALUE_PERCENT', threshold_percent)\n",
    "filtered_percentage(df_percentage, 'FAILS_PERCENT', threshold_percent)"
   ]
  },
  {
   "cell_type": "code",
   "execution_count": 87,
   "metadata": {},
   "outputs": [
    {
     "name": "stdout",
     "output_type": "stream",
     "text": [
      "Daily failvalue below 100 million: 21339221\n",
      "Daily failvalue above 100 million: 9660\n",
      "Storing cnsfails-filtered-failvalue.csv to output folder\n"
     ]
    }
   ],
   "source": [
    "threshold_daily_million = 100\n",
    "\n",
    "df_small_fails = df[df['FAILVALUE'] < threshold_daily_million]\n",
    "print(f\"Daily failvalue below {threshold_daily_million} million: {len(df_small_fails.index)}\")\n",
    "df_small_merged = df_small_fails.groupby('DATE').agg({'FAILS': 'sum', 'FAILVALUE': 'sum'}).reset_index()\n",
    "df_small_merged['SYMBOL'] = \"Other\"\n",
    "df_small_merged ['PRICE'] = 0.0\n",
    "\n",
    "df_big_fails = df[df['FAILVALUE'] >= threshold_daily_million]\n",
    "print(f\"Daily failvalue above {threshold_daily_million} million: {len(df_big_fails.index)}\")\n",
    "\n",
    "df_filtered = df_big_fails.append(df_small_merged)\n",
    "df_filtered = df_filtered.sort_values(by=['DATE', 'FAILVALUE'])\n",
    "store_csv(df_filtered, f\"cnsfails-filtered-failvalue.csv\", processed_folder)\n"
   ]
  },
  {
   "cell_type": "code",
   "execution_count": 88,
   "metadata": {},
   "outputs": [
    {
     "name": "stdout",
     "output_type": "stream",
     "text": [
      "Price 0-5: 7318515\n",
      "Price 5-50: 11289498\n",
      "Price 50-500: 2706452\n",
      "Price 500-500000: 34416\n",
      "Storing cnsfails-by-day-price-categories.csv to output folder\n"
     ]
    }
   ],
   "source": [
    "def filter_price_range_daily(df, category, min, max):\n",
    "    df_filtered = df[(df['PRICE'] >= min) & (df['PRICE'] < max)]\n",
    "    print(f\"Price {min}-{max}: {len(df_filtered.index)}\")\n",
    "    df_days = df_filtered.groupby('DATE').agg(FAILS = ('FAILS', 'sum'), FAILVALUE = ('FAILVALUE', 'sum'), ENTRIES = ('SYMBOL', 'count')).reset_index()\n",
    "    df_days['PRICE_CATEGORY'] = category\n",
    "    df_days = df_days[['DATE', 'PRICE_CATEGORY', 'ENTRIES', 'FAILS', 'FAILVALUE']]\n",
    "    return df_days\n",
    "\n",
    "# Create categories for <$5, $5-$50, $50-$500, >$500\n",
    "df_price_a = filter_price_range_daily(df, 'A', 0, 5)\n",
    "df_price_b = filter_price_range_daily(df, 'B', 5, 50)\n",
    "df_price_c = filter_price_range_daily(df, 'C', 50, 500)\n",
    "df_price_d = filter_price_range_daily(df, 'D', 500, 500000)\n",
    "\n",
    "df_price_categories = df_price_a.append(df_price_b).append(df_price_c).append(df_price_d)\n",
    "df_price_categories = df_price_categories.sort_values(by=['DATE', 'PRICE_CATEGORY'])\n",
    "store_csv(df_price_categories, 'cnsfails-by-day-price-categories.csv', processed_folder)"
   ]
  }
 ],
 "metadata": {
  "interpreter": {
   "hash": "226b0bfe565b1b26ba0fac29fd4d427cb0aeca81c7a6f675349b9931f46b38c7"
  },
  "kernelspec": {
   "display_name": "Python 3.8.5 64-bit",
   "language": "python",
   "name": "python3"
  },
  "language_info": {
   "codemirror_mode": {
    "name": "ipython",
    "version": 3
   },
   "file_extension": ".py",
   "mimetype": "text/x-python",
   "name": "python",
   "nbconvert_exporter": "python",
   "pygments_lexer": "ipython3",
   "version": "3.10.0"
  },
  "metadata": {
   "interpreter": {
    "hash": "226b0bfe565b1b26ba0fac29fd4d427cb0aeca81c7a6f675349b9931f46b38c7"
   }
  },
  "orig_nbformat": 2
 },
 "nbformat": 4,
 "nbformat_minor": 2
}
