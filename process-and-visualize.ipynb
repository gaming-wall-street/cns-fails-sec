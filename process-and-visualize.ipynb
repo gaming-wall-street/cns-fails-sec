{
 "cells": [
  {
   "cell_type": "code",
   "execution_count": 12,
   "metadata": {},
   "outputs": [],
   "source": [
    "# This notebook uses the sanitized data from download-and-sanitize.ipynb\n",
    "# and visualizes its data\n",
    "\n",
    "import os\n",
    "import datetime as dt\n",
    "import pandas as pd\n",
    "import numpy as np\n",
    "import matplotlib.pyplot as plt\n",
    "from pathlib import Path\n",
    "\n",
    "def get_or_create_folder(baseDir, folderName):\n",
    "    path = os.path.join(baseDir, folderName)\n",
    "    if(not os.path.exists(path)):\n",
    "        os.mkdir(path)\n",
    "    return path\n",
    "\n",
    "current_dir = os.getcwd()\n",
    "\n",
    "sanitized_folder = get_or_create_folder(current_dir, 'sanitized')\n",
    "processed_folder = get_or_create_folder(current_dir, 'processed')\n",
    "csv_yearly = get_or_create_folder(sanitized_folder, 'cnsfails-yearly')\n"
   ]
  },
  {
   "cell_type": "code",
   "execution_count": 20,
   "metadata": {},
   "outputs": [
    {
     "name": "stdout",
     "output_type": "stream",
     "text": [
      "Reading all files in memory for pandas, this will take some time\n",
      "Read file cnsfails-2004.csv\n",
      "Read file cnsfails-2005.csv\n",
      "Read file cnsfails-2006.csv\n",
      "Read file cnsfails-2007.csv\n",
      "Read file cnsfails-2008.csv\n",
      "Read file cnsfails-2009.csv\n",
      "Read file cnsfails-2010.csv\n",
      "Read file cnsfails-2011.csv\n",
      "Read file cnsfails-2012.csv\n",
      "Read file cnsfails-2013.csv\n",
      "Read file cnsfails-2014.csv\n",
      "Read file cnsfails-2015.csv\n",
      "Read file cnsfails-2016.csv\n",
      "Read file cnsfails-2017.csv\n",
      "Read file cnsfails-2018.csv\n",
      "Read file cnsfails-2019.csv\n",
      "Read file cnsfails-2020.csv\n",
      "Read file cnsfails-2021.csv\n",
      "Fles read, generating dataframe\n",
      "dataframe generated\n"
     ]
    },
    {
     "data": {
      "text/plain": [
       "DATE      21348881\n",
       "SYMBOL    21348871\n",
       "FAILS     21348881\n",
       "PRICE     21348881\n",
       "dtype: int64"
      ]
     },
     "execution_count": 20,
     "metadata": {},
     "output_type": "execute_result"
    }
   ],
   "source": [
    "def read_csv(folder, name):\n",
    "    li = []\n",
    "    print(f\"Reading all files in memory for pandas, this will take some time\")\n",
    "    for path in Path(folder).rglob(f'*{name}*.csv'):\n",
    "        filename = os.path.basename(path)\n",
    "        print(f\"Read file {filename}\")\n",
    "        csv_df = pd.read_csv(path, index_col=None, header=0, sep =',', decimal='.', parse_dates=['DATE'],\\\n",
    "            dtype={'SYMBOL': 'str', 'QUANTITY': 'int', 'PRICE': 'float'})\n",
    "        li.append(csv_df)\n",
    "    \n",
    "    print(f\"Fles read, generating dataframe\")\n",
    "    df = pd.concat(li, axis=0, ignore_index=True)\n",
    "    print(f\"dataframe generated\")\n",
    "    return df\n",
    "\n",
    "df = read_csv(csv_yearly, 'cns')\n",
    "df.count()"
   ]
  },
  {
   "cell_type": "code",
   "execution_count": 31,
   "metadata": {},
   "outputs": [
    {
     "data": {
      "text/html": [
       "<div>\n",
       "<style scoped>\n",
       "    .dataframe tbody tr th:only-of-type {\n",
       "        vertical-align: middle;\n",
       "    }\n",
       "\n",
       "    .dataframe tbody tr th {\n",
       "        vertical-align: top;\n",
       "    }\n",
       "\n",
       "    .dataframe thead th {\n",
       "        text-align: right;\n",
       "    }\n",
       "</style>\n",
       "<table border=\"1\" class=\"dataframe\">\n",
       "  <thead>\n",
       "    <tr style=\"text-align: right;\">\n",
       "      <th></th>\n",
       "      <th>DATE</th>\n",
       "      <th>SYMBOL</th>\n",
       "      <th>FAILS</th>\n",
       "      <th>PRICE</th>\n",
       "      <th>FAILVALUE</th>\n",
       "    </tr>\n",
       "  </thead>\n",
       "  <tbody>\n",
       "    <tr>\n",
       "      <th>2159998</th>\n",
       "      <td>2007-06-27</td>\n",
       "      <td>IWM</td>\n",
       "      <td>134504697</td>\n",
       "      <td>81.74</td>\n",
       "      <td>10994.413933</td>\n",
       "    </tr>\n",
       "    <tr>\n",
       "      <th>2156632</th>\n",
       "      <td>2007-06-26</td>\n",
       "      <td>IWM</td>\n",
       "      <td>126547156</td>\n",
       "      <td>82.49</td>\n",
       "      <td>10438.874898</td>\n",
       "    </tr>\n",
       "    <tr>\n",
       "      <th>2153448</th>\n",
       "      <td>2007-06-25</td>\n",
       "      <td>IWM</td>\n",
       "      <td>95656140</td>\n",
       "      <td>82.92</td>\n",
       "      <td>7931.807129</td>\n",
       "    </tr>\n",
       "    <tr>\n",
       "      <th>20826571</th>\n",
       "      <td>2021-06-21</td>\n",
       "      <td>SPY</td>\n",
       "      <td>14271236</td>\n",
       "      <td>414.92</td>\n",
       "      <td>5921.421241</td>\n",
       "    </tr>\n",
       "    <tr>\n",
       "      <th>7879982</th>\n",
       "      <td>2011-08-15</td>\n",
       "      <td>SPY</td>\n",
       "      <td>49563253</td>\n",
       "      <td>118.15</td>\n",
       "      <td>5855.898342</td>\n",
       "    </tr>\n",
       "  </tbody>\n",
       "</table>\n",
       "</div>"
      ],
      "text/plain": [
       "               DATE SYMBOL      FAILS   PRICE     FAILVALUE\n",
       "2159998  2007-06-27    IWM  134504697   81.74  10994.413933\n",
       "2156632  2007-06-26    IWM  126547156   82.49  10438.874898\n",
       "2153448  2007-06-25    IWM   95656140   82.92   7931.807129\n",
       "20826571 2021-06-21    SPY   14271236  414.92   5921.421241\n",
       "7879982  2011-08-15    SPY   49563253  118.15   5855.898342"
      ]
     },
     "execution_count": 31,
     "metadata": {},
     "output_type": "execute_result"
    }
   ],
   "source": [
    "# Fail value in million\n",
    "df['FAILVALUE'] = (df['FAILS'] * df['PRICE']) / 1000000\n",
    "df = df.sort_values(by=['FAILVALUE'], ascending=False)\n",
    "df.head()"
   ]
  },
  {
   "cell_type": "code",
   "execution_count": 26,
   "metadata": {},
   "outputs": [
    {
     "data": {
      "text/html": [
       "<div>\n",
       "<style scoped>\n",
       "    .dataframe tbody tr th:only-of-type {\n",
       "        vertical-align: middle;\n",
       "    }\n",
       "\n",
       "    .dataframe tbody tr th {\n",
       "        vertical-align: top;\n",
       "    }\n",
       "\n",
       "    .dataframe thead th {\n",
       "        text-align: right;\n",
       "    }\n",
       "</style>\n",
       "<table border=\"1\" class=\"dataframe\">\n",
       "  <thead>\n",
       "    <tr style=\"text-align: right;\">\n",
       "      <th></th>\n",
       "      <th>SYMBOL</th>\n",
       "      <th>DAYCOUNT</th>\n",
       "      <th>FAILS</th>\n",
       "      <th>FAILVALUE</th>\n",
       "    </tr>\n",
       "  </thead>\n",
       "  <tbody>\n",
       "    <tr>\n",
       "      <th>49284</th>\n",
       "      <td>SPY</td>\n",
       "      <td>4230</td>\n",
       "      <td>5435541282</td>\n",
       "      <td>745208.712181</td>\n",
       "    </tr>\n",
       "    <tr>\n",
       "      <th>29001</th>\n",
       "      <td>IWM</td>\n",
       "      <td>4199</td>\n",
       "      <td>7996626744</td>\n",
       "      <td>571703.885762</td>\n",
       "    </tr>\n",
       "    <tr>\n",
       "      <th>43728</th>\n",
       "      <td>QQQ</td>\n",
       "      <td>2677</td>\n",
       "      <td>1626435681</td>\n",
       "      <td>173305.768306</td>\n",
       "    </tr>\n",
       "    <tr>\n",
       "      <th>16771</th>\n",
       "      <td>EEM</td>\n",
       "      <td>3718</td>\n",
       "      <td>2271069431</td>\n",
       "      <td>98170.981215</td>\n",
       "    </tr>\n",
       "    <tr>\n",
       "      <th>47514</th>\n",
       "      <td>SHLD</td>\n",
       "      <td>2940</td>\n",
       "      <td>1135912728</td>\n",
       "      <td>91317.701400</td>\n",
       "    </tr>\n",
       "  </tbody>\n",
       "</table>\n",
       "</div>"
      ],
      "text/plain": [
       "      SYMBOL  DAYCOUNT       FAILS      FAILVALUE\n",
       "49284    SPY      4230  5435541282  745208.712181\n",
       "29001    IWM      4199  7996626744  571703.885762\n",
       "43728    QQQ      2677  1626435681  173305.768306\n",
       "16771    EEM      3718  2271069431   98170.981215\n",
       "47514   SHLD      2940  1135912728   91317.701400"
      ]
     },
     "execution_count": 26,
     "metadata": {},
     "output_type": "execute_result"
    }
   ],
   "source": [
    "df_symbols = df.groupby('SYMBOL').agg({'DATE':'count', 'FAILS': 'sum', 'FAILVALUE': 'sum'}).reset_index()\n",
    "df_symbols = df_symbols.rename(columns={\"DATE\": \"DAYCOUNT\"})\n",
    "df_symbols = df_symbols.sort_values(by=['FAILVALUE', 'FAILS'], ascending=False)\n",
    "df_symbols.head()"
   ]
  },
  {
   "cell_type": "code",
   "execution_count": 34,
   "metadata": {},
   "outputs": [
    {
     "data": {
      "text/html": [
       "<div>\n",
       "<style scoped>\n",
       "    .dataframe tbody tr th:only-of-type {\n",
       "        vertical-align: middle;\n",
       "    }\n",
       "\n",
       "    .dataframe tbody tr th {\n",
       "        vertical-align: top;\n",
       "    }\n",
       "\n",
       "    .dataframe thead th {\n",
       "        text-align: right;\n",
       "    }\n",
       "</style>\n",
       "<table border=\"1\" class=\"dataframe\">\n",
       "  <thead>\n",
       "    <tr style=\"text-align: right;\">\n",
       "      <th></th>\n",
       "      <th>DATE</th>\n",
       "      <th>FAILS</th>\n",
       "      <th>FAILVALUE</th>\n",
       "    </tr>\n",
       "  </thead>\n",
       "  <tbody>\n",
       "    <tr>\n",
       "      <th>0</th>\n",
       "      <td>2004-03-22</td>\n",
       "      <td>771830516</td>\n",
       "      <td>0.0</td>\n",
       "    </tr>\n",
       "    <tr>\n",
       "      <th>1</th>\n",
       "      <td>2004-03-23</td>\n",
       "      <td>719870837</td>\n",
       "      <td>0.0</td>\n",
       "    </tr>\n",
       "    <tr>\n",
       "      <th>2</th>\n",
       "      <td>2004-03-24</td>\n",
       "      <td>700042286</td>\n",
       "      <td>0.0</td>\n",
       "    </tr>\n",
       "    <tr>\n",
       "      <th>3</th>\n",
       "      <td>2004-03-25</td>\n",
       "      <td>748808533</td>\n",
       "      <td>0.0</td>\n",
       "    </tr>\n",
       "    <tr>\n",
       "      <th>4</th>\n",
       "      <td>2004-03-26</td>\n",
       "      <td>953889171</td>\n",
       "      <td>0.0</td>\n",
       "    </tr>\n",
       "  </tbody>\n",
       "</table>\n",
       "</div>"
      ],
      "text/plain": [
       "        DATE      FAILS  FAILVALUE\n",
       "0 2004-03-22  771830516        0.0\n",
       "1 2004-03-23  719870837        0.0\n",
       "2 2004-03-24  700042286        0.0\n",
       "3 2004-03-25  748808533        0.0\n",
       "4 2004-03-26  953889171        0.0"
      ]
     },
     "execution_count": 34,
     "metadata": {},
     "output_type": "execute_result"
    }
   ],
   "source": [
    "df_days = df.groupby('DATE').agg({'FAILS': 'sum', 'FAILVALUE': 'sum'}).reset_index()\n",
    "df_days = df_days.sort_values(by=['DATE'])\n",
    "df_days.head()"
   ]
  },
  {
   "cell_type": "code",
   "execution_count": 36,
   "metadata": {},
   "outputs": [
    {
     "name": "stdout",
     "output_type": "stream",
     "text": [
      "Storing cnsfails-by-symbol.csv to output folder\n",
      "Storing cnsfails-by-day.csv to output folder\n"
     ]
    }
   ],
   "source": [
    "def store_csv(df, filename, folder):\n",
    "    print(f\"Storing {filename} to output folder\")\n",
    "    fullpath = os.path.join(folder, filename)\n",
    "    df.to_csv(fullpath, index=False, sep =',', decimal='.', float_format='%.5f')\n",
    "\n",
    "store_csv(df_symbols, f\"cnsfails-by-symbol.csv\", processed_folder)\n",
    "store_csv(df_days, f\"cnsfails-by-day.csv\", processed_folder)"
   ]
  }
 ],
 "metadata": {
  "interpreter": {
   "hash": "226b0bfe565b1b26ba0fac29fd4d427cb0aeca81c7a6f675349b9931f46b38c7"
  },
  "kernelspec": {
   "display_name": "Python 3.8.5 64-bit",
   "language": "python",
   "name": "python3"
  },
  "language_info": {
   "codemirror_mode": {
    "name": "ipython",
    "version": 3
   },
   "file_extension": ".py",
   "mimetype": "text/x-python",
   "name": "python",
   "nbconvert_exporter": "python",
   "pygments_lexer": "ipython3",
   "version": "3.10.0"
  },
  "metadata": {
   "interpreter": {
    "hash": "226b0bfe565b1b26ba0fac29fd4d427cb0aeca81c7a6f675349b9931f46b38c7"
   }
  },
  "orig_nbformat": 2
 },
 "nbformat": 4,
 "nbformat_minor": 2
}
